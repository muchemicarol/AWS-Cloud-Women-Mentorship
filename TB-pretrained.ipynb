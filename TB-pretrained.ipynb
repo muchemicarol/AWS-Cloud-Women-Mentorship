{
 "cells": [
  {
   "cell_type": "markdown",
   "metadata": {},
   "source": [
    "### AWS Cloud Women Mentorship\n",
    "\n",
    "At the end of the program, I am looking to achieve early detection of tuberculosis using advanced image processing. For this project, I am leveraging on AWS Cloud ML tools and technique.\n",
    "\n",
    "Dataset: https://www.kaggle.com/datasets/tawsifurrahman/tuberculosis-tb-chest-xray-dataset\n",
    "\n",
    "Credits:\n",
    "Tawsifur Rahman, Amith Khandakar, Muhammad A. Kadir, Khandaker R. Islam, Khandaker F. Islam, Zaid B. Mahbub, Mohamed Arselene Ayari, Muhammad E. H. Chowdhury. (2020) \"Reliable Tuberculosis Detection using Chest X-ray with Deep Learning, Segmentation and Visualization\". IEEE Access, Vol. 8, pp 191586 - 191601. DOI. 10.1109/ACCESS.2020.3031384"
   ]
  },
  {
   "cell_type": "code",
   "execution_count": 1,
   "metadata": {},
   "outputs": [],
   "source": [
    "import boto3\n",
    "import os\n",
    "from dotenv import load_dotenv, dotenv_values\n",
    "\n",
    "load_dotenv()\n",
    "\n",
    "access_key_id = os.getenv(\"access_key_id\")\n",
    "secret_access_key = os.getenv(\"secret_access_key\")"
   ]
  },
  {
   "cell_type": "code",
   "execution_count": 2,
   "metadata": {},
   "outputs": [],
   "source": [
    "rekognition_client = boto3.client(\n",
    "    \"rekognition\",\n",
    "    region_name=\"us-east-1\",\n",
    "    aws_access_key_id=access_key_id,\n",
    "    aws_secret_access_key=secret_access_key\n",
    "    )"
   ]
  },
  {
   "cell_type": "code",
   "execution_count": 3,
   "metadata": {},
   "outputs": [],
   "source": [
    "s3 = boto3.client(\"s3\", region_name=\"us-east-1\",\n",
    "    aws_access_key_id=access_key_id,\n",
    "    aws_secret_access_key=secret_access_key)\n",
    "\n",
    "\n",
    "# s3.list_objects_v2(Bucket=\"pretrained-tb\")"
   ]
  },
  {
   "cell_type": "code",
   "execution_count": 4,
   "metadata": {},
   "outputs": [
    {
     "name": "stdout",
     "output_type": "stream",
     "text": [
      "X-Ray 98.25775909423828\n",
      "Person 96.95108032226562\n"
     ]
    }
   ],
   "source": [
    "response = rekognition_client.detect_labels(\n",
    "    Image={\n",
    "        \"S3Object\": {\n",
    "            \"Bucket\": \"pretrained-tb\",\n",
    "            \"Name\": \"Tuberculosis-1.png\"\n",
    "        }\n",
    "    },\n",
    "    MaxLabels=10,\n",
    "    MinConfidence=90\n",
    ")\n",
    "\n",
    "for label in response[\"Labels\"]:\n",
    "    print(label[\"Name\"], label[\"Confidence\"])"
   ]
  },
  {
   "cell_type": "code",
   "execution_count": 5,
   "metadata": {},
   "outputs": [
    {
     "data": {
      "text/plain": [
       "{'Labels': [{'Name': 'X-Ray',\n",
       "   'Confidence': 98.25775909423828,\n",
       "   'Instances': [],\n",
       "   'Parents': [],\n",
       "   'Aliases': [{'Name': 'Medical Imaging X-Ray Film'}],\n",
       "   'Categories': [{'Name': 'Medical'}]},\n",
       "  {'Name': 'Person',\n",
       "   'Confidence': 96.95108032226562,\n",
       "   'Instances': [{'BoundingBox': {'Width': 0.9888842701911926,\n",
       "      'Height': 1.0,\n",
       "      'Left': 0.003773918142542243,\n",
       "      'Top': 0.0},\n",
       "     'Confidence': 96.95108032226562}],\n",
       "   'Parents': [],\n",
       "   'Aliases': [{'Name': 'Human'}],\n",
       "   'Categories': [{'Name': 'Person Description'}]}],\n",
       " 'LabelModelVersion': '3.0',\n",
       " 'ResponseMetadata': {'RequestId': '50811967-0895-4b0a-b9f2-91d9c29cbf34',\n",
       "  'HTTPStatusCode': 200,\n",
       "  'HTTPHeaders': {'x-amzn-requestid': '50811967-0895-4b0a-b9f2-91d9c29cbf34',\n",
       "   'content-type': 'application/x-amz-json-1.1',\n",
       "   'content-length': '475',\n",
       "   'date': 'Wed, 27 Mar 2024 19:40:52 GMT'},\n",
       "  'RetryAttempts': 0}}"
      ]
     },
     "execution_count": 5,
     "metadata": {},
     "output_type": "execute_result"
    }
   ],
   "source": [
    "response"
   ]
  },
  {
   "cell_type": "code",
   "execution_count": null,
   "metadata": {},
   "outputs": [],
   "source": []
  }
 ],
 "metadata": {
  "kernelspec": {
   "display_name": ".aws-cloud",
   "language": "python",
   "name": "python3"
  },
  "language_info": {
   "codemirror_mode": {
    "name": "ipython",
    "version": 3
   },
   "file_extension": ".py",
   "mimetype": "text/x-python",
   "name": "python",
   "nbconvert_exporter": "python",
   "pygments_lexer": "ipython3",
   "version": "3.9.13"
  }
 },
 "nbformat": 4,
 "nbformat_minor": 2
}
